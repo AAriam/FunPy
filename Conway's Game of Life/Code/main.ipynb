{
 "cells": [
  {
   "cell_type": "code",
   "execution_count": null,
   "metadata": {},
   "outputs": [],
   "source": [
    "import numpy as np\n",
    "import grid_generator as gg\n",
    "import gameoflife as gol\n",
    "import visualizer as vis"
   ]
  },
  {
   "cell_type": "code",
   "execution_count": null,
   "metadata": {},
   "outputs": [],
   "source": [
    "random_grid = np.random.randint(0,2,(40, 40))\n",
    "results_random = gol.run_game(random_grid)\n",
    "vis.visualize_game(results_random)"
   ]
  },
  {
   "cell_type": "code",
   "execution_count": null,
   "metadata": {},
   "outputs": [],
   "source": [
    "grid_blinker = gg.create_grid_with_pattern(gg.BLINKER)\n",
    "results_blinker = gol.run_game(grid_blinker, num_generations=30)\n",
    "vis.visualize_game(results_blinker)"
   ]
  },
  {
   "cell_type": "code",
   "execution_count": null,
   "metadata": {},
   "outputs": [],
   "source": [
    "grid_glider = gg.create_grid_with_pattern(gg.GLIDER)\n",
    "results_glider = gol.run_game(grid_glider)\n",
    "vis.visualize_game(results_glider)"
   ]
  },
  {
   "cell_type": "code",
   "execution_count": null,
   "metadata": {},
   "outputs": [],
   "source": [
    "grid_gosper_glider = gg.create_grid_with_pattern(gg.GOSPER_GLIDER)\n",
    "results_gosper_glider = gol.run_game(grid_gosper_glider, num_generations=400)\n",
    "vis.visualize_game(results_gosper_glider)"
   ]
  },
  {
   "cell_type": "code",
   "execution_count": null,
   "metadata": {},
   "outputs": [],
   "source": [
    "grid_one_liner = gg.create_grid_with_pattern(gg.ONE_LINER)\n",
    "results_one_liner = gol.run_game(grid_one_liner, num_generations=450)\n",
    "vis.visualize_game(results_one_liner)"
   ]
  },
  {
   "cell_type": "code",
   "execution_count": null,
   "metadata": {},
   "outputs": [],
   "source": []
  }
 ],
 "metadata": {
  "kernelspec": {
   "display_name": "Python 3",
   "language": "python",
   "name": "python3"
  },
  "language_info": {
   "codemirror_mode": {
    "name": "ipython",
    "version": 3
   },
   "file_extension": ".py",
   "mimetype": "text/x-python",
   "name": "python",
   "nbconvert_exporter": "python",
   "pygments_lexer": "ipython3",
   "version": "3.7.6"
  }
 },
 "nbformat": 4,
 "nbformat_minor": 4
}
